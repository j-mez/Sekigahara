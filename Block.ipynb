{
 "cells": [
  {
   "cell_type": "code",
   "execution_count": 1,
   "metadata": {},
   "outputs": [],
   "source": [
    "class Block(object):\n",
    "    color = \"\"\n",
    "    clan = \"\"\n",
    "    impact = 0\n",
    "    b_type = \"\"\n",
    "\n",
    "    # The class \"constructor\" - It's actually an initializer \n",
    "    def __init__(self, color, clan, impact, b_type):\n",
    "        self.color = color\n",
    "        self.clan = clan\n",
    "        self.impact = impact\n",
    "        self.b_type = b_type\n",
    "    \n",
    "    def info_self(self):\n",
    "        if self.b_type==\"Leader\":\n",
    "            symbol_rep = \"🚩\"\n",
    "        elif self.b_type==\"Army\":\n",
    "            symbol_rep = \"⚔️\"*self.impact #★\n",
    "        elif self.b_type==\"Cavalry\":\n",
    "            symbol_rep = \"🐎\"\n",
    "        elif self.b_type==\"Arquebus\":\n",
    "            symbol_rep = \"🔫\"\n",
    "        else:\n",
    "            symbol_rep = \"★\"\n",
    "        return \"{} {}({})\".format(self.clan.upper(),symbol_rep,self.impact)"
   ]
  }
 ],
 "metadata": {
  "kernelspec": {
   "display_name": "Python 3",
   "language": "python",
   "name": "python3"
  },
  "language_info": {
   "codemirror_mode": {
    "name": "ipython",
    "version": 3
   },
   "file_extension": ".py",
   "mimetype": "text/x-python",
   "name": "python",
   "nbconvert_exporter": "python",
   "pygments_lexer": "ipython3",
   "version": "3.6.5"
  }
 },
 "nbformat": 4,
 "nbformat_minor": 2
}
